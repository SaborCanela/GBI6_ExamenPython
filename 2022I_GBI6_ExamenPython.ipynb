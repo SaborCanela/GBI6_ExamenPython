{
 "cells": [
  {
   "cell_type": "markdown",
   "metadata": {},
   "source": [
    "<img src=\"https://ecogenomics.github.io/CheckM/img/checkm.png\" width=300 height=240 />\n",
    "\n",
    "# EXAMEN PARCIAL PYTHON\n",
    "    \n",
    "\n",
    "## GBI6-2021II: BIOINFORMÁTICA\n",
    "\n",
    "**Apellidos, Nombres** Thomas Garzon\n",
    "\n",
    "**03-08-2022**"
   ]
  },
  {
   "cell_type": "markdown",
   "metadata": {},
   "source": [
    "<font color='red'>Color de texto</font>\n"
   ]
  },
  {
   "cell_type": "markdown",
   "metadata": {},
   "source": [
    "### REQUERIMIENTOS PARA EL EXAMEN\n",
    "\n",
    "Utilice de preferencia ```Jupyter``` de Anaconda, dado que tienen que hacer un control de cambios en cada pregunta. \n",
    "\n",
    "Para este examen se requiere dos documentos: \n",
    "\n",
    "1. Archivo ```miningscience.py``` donde tendrá dos funciones:\n",
    "\n",
    "2. Archivo ```2022I_GBI6_ExamenPython``` donde se llamará las funciones y se obtendrá resultados."
   ]
  },
  {
   "cell_type": "markdown",
   "metadata": {},
   "source": [
    "## Ejercicio 0 [0.5 puntos]\n",
    "Realice cambios al cuaderno de jupyter: \n",
    "- Agregue el logo de la Universidad\n",
    "- Coloque sus datos personales \n",
    "- Escriba una **tabla** con las características de su computador \n"
   ]
  },
  {
   "cell_type": "markdown",
   "metadata": {},
   "source": [
    "### <center><h2> INGENIERÍA EN BIOTECNOLOGÍA</h2></center>\n",
    "\n",
    "<img src=\"https://www.ikiam.edu.ec/img/logo-ikiam-grey.png\" width=400 height=300 />\n",
    "\n",
    "# <center><h1 style=\"color:orange\">GBI6 - BIOINFORMÁTICA</h1></center>\n",
    "\n",
    "# <center><h1 style=\"color:orange\">BIOPYTHON</h1></center>\n",
    "\n",
    "### Thomas Garzon\n",
    "\n",
    "| Caracteristicas de mi computadora| \n",
    "| :---: |\n",
    "| sistema Operativo  Windows 10 |\n",
    "| Procesador Intel(R) Core(TM) i5-5300U CPU @ 2.30GHz   2.29 GHz | \n",
    "| RAM utilizable  7,88 GB |\n",
    "| Identificador de dispositivo  A2FF5553-A8EB-4B01-BC8E-3444112381CE |"
   ]
  },
  {
   "cell_type": "markdown",
   "metadata": {},
   "source": [
    "## Ejercicio 1 [2 puntos]\n",
    "Cree el archivo ```miningscience.py``` con las siguientes dos funciones:\n",
    "    \n",
    "i. ```download_pubmed```: para descargar la data de PubMed utilizando el **ENTREZ** de Biopython. El parámetro de entrada para la función es el ```keyword```. \n",
    "    \n",
    "ii. ```map_science```: para su data replique el ejemplo de [MapOfScience](https://github.com/CSB-book/CSB/blob/master/regex/solutions/MapOfScience_solution.ipynb), donde los puntos resaltados son al menos 5 países\n",
    "\n",
    "iii *Cree un docstring para cada función.* \n",
    "\n",
    "Luego de crear las funciones, cargue el módulo ```miningscience``` como ```msc``` e **imprima docstring de cada función**.\n"
   ]
  },
  {
   "cell_type": "code",
   "execution_count": null,
   "metadata": {},
   "outputs": [],
   "source": [
    "# Escriba aquí su código para el ejercicio 1\n"
   ]
  },
  {
   "cell_type": "code",
   "execution_count": 1,
   "metadata": {},
   "outputs": [],
   "source": [
    "import miningscience"
   ]
  },
  {
   "cell_type": "code",
   "execution_count": null,
   "metadata": {},
   "outputs": [],
   "source": [
    "?miningscience.download_pubmed"
   ]
  },
  {
   "cell_type": "code",
   "execution_count": null,
   "metadata": {},
   "outputs": [],
   "source": [
    "?miningscience.map_science"
   ]
  },
  {
   "cell_type": "markdown",
   "metadata": {},
   "source": [
    "\n",
    "## Ejercicio 2 [2 puntos]\n",
    "\n",
    "\n",
    "Utilice dos veces la función ```download_pubmed``` para: \n",
    "\n",
    "- Descargar la data, utilizando los keyword de su preferencia. \n",
    "- Guardar el archivo descargado en la carpeta ```data```.\n",
    "\n",
    "Para cada corrida, imprima lo siguiente: \n",
    "\n",
    "```python\n",
    "'El número artículos para KEYWORD es: XX' # Que se cargue con inserción de texto o valor que correspondea KEYWORD y XX\n",
    "```"
   ]
  },
  {
   "cell_type": "code",
   "execution_count": null,
   "metadata": {},
   "outputs": [],
   "source": [
    "# Escriba aquí su código para el ejercicio 2\n",
    "import re\n"
   ]
  },
  {
   "cell_type": "code",
   "execution_count": null,
   "metadata": {},
   "outputs": [],
   "source": [
    "miningscience.download_pubmed(\"Denge\")"
   ]
  },
  {
   "cell_type": "code",
   "execution_count": null,
   "metadata": {},
   "outputs": [],
   "source": [
    "# Contribución de los autores\n",
    "with open(\"data/pubmed_results.txt\") as datafile:\n",
    "    author_dict = {}\n",
    "    for line in datafile:\n",
    "        if re.match(\"AD\", line):\n",
    "            author = line.split(\"-\", 1)[-1]# capture author\n",
    "            author = author.strip()# remove leading and trailing whitespace\n",
    "            author_dict[author] = 1 + author_dict.get(author, 0)# if key is present, add 1, if it's not present, initialize at 1"
   ]
  },
  {
   "cell_type": "code",
   "execution_count": null,
   "metadata": {
    "scrolled": true
   },
   "outputs": [],
   "source": [
    "for author in sorted(author_dict, key = author_dict.get, reverse = True):\n",
    "    print(author, \":\", author_dict[author])"
   ]
  },
  {
   "cell_type": "code",
   "execution_count": null,
   "metadata": {},
   "outputs": [],
   "source": [
    "print (\"El numero de articulos es:\", len(\"data/pubmed_results.txt\"))"
   ]
  },
  {
   "cell_type": "markdown",
   "metadata": {},
   "source": [
    "## Ejercicio 3 [1.5 puntos]\n",
    "\n",
    "Utilice dos veces la función ```map_science``` para: \n",
    "\n",
    "- Visualizar un mapa para cada data descargada en el ejercicio 2.\n",
    "- Guardar los mapas en la carpeta ```img```"
   ]
  },
  {
   "cell_type": "code",
   "execution_count": 2,
   "metadata": {
    "scrolled": true
   },
   "outputs": [
    {
     "data": {
      "image/png": "[encoded data removed]",
      "text/plain": [
       "<Figure size 1296x864 with 2 Axes>"
      ]
     },
     "metadata": {
      "needs_background": "light"
     },
     "output_type": "display_data"
    }
   ],
   "source": [
    "# Escriba aquí su código para el ejercicio 3\n",
    "miningscience.map_science(\"data/pubmed_results.txt\")"
   ]
  },
  {
   "cell_type": "code",
   "execution_count": null,
   "metadata": {},
   "outputs": [],
   "source": [
    "fig.savefig('graficos.eps', dpi = 300)"
   ]
  },
  {
   "cell_type": "markdown",
   "metadata": {},
   "source": [
    "## Ejercicio 4 [1 punto]\n",
    "\n",
    "**Interprete** los resultados de las figuras del **ejercicio 3**"
   ]
  },
  {
   "cell_type": "markdown",
   "metadata": {},
   "source": [
    "#### En cambridge y en los angeles los casos de debgue hab sido elevados"
   ]
  },
  {
   "cell_type": "markdown",
   "metadata": {},
   "source": [
    "*Escriba la respuesta del ejercicio 5*\n"
   ]
  },
  {
   "cell_type": "markdown",
   "metadata": {},
   "source": [
    "## Ejercicio 5 [2 puntos]\n",
    "\n",
    "Para algún **gen de interés** (podría usar [Lista de genes por tipología](https://www.genome.jp/kegg/pathway.html#metabolism)), realice lo siguiente: \n",
    "\n",
    "1. Una búsqueda en la página del [NCBI nucleotide](https://www.ncbi.nlm.nih.gov/nucleotide/).\n",
    "\n",
    "2. Descargue el ```Accession List``` de su búsqueda y guarde en la carpeta ```data```.\n",
    "\n",
    "3. Cargue el ```Accession List``` en este notebook y haga una descarga de las secuencias de los **quince primeros** IDs de la accesión. \n",
    "\n",
    "4. Arme un árbol filogenético para los resultados del paso 3.\n",
    "\n",
    "5. Guarde su arbol filogénetico en la carpeta ```img```\n",
    "\n",
    "5. Interprete el árbol del paso 4. "
   ]
  },
  {
   "cell_type": "code",
   "execution_count": 19,
   "metadata": {},
   "outputs": [],
   "source": [
    "# Escriba aquí su código para el ejercicio 6\n",
    "from Bio import SeqIO\n",
    "from Bio import AlignIO\n",
    "from Bio import Phylo"
   ]
  },
  {
   "cell_type": "code",
   "execution_count": 20,
   "metadata": {},
   "outputs": [],
   "source": [
    "from Bio.Align.Applications import ClustalwCommandline\n",
    "import os"
   ]
  },
  {
   "cell_type": "code",
   "execution_count": 22,
   "metadata": {
    "scrolled": false
   },
   "outputs": [
    {
     "name": "stdout",
     "output_type": "stream",
     "text": [
      "\"C:\\Program Files (x86)\\ClustalW2\\clustalw2.exe\" -infile=data/rag2s.fasta\n"
     ]
    }
   ],
   "source": [
    "# cargar data multiple y crear alineamientos\n",
    "clustalw_exe = r\"C:\\Program Files (x86)\\ClustalW2\\clustalw2.exe\"\n",
    "clustalw_cline = ClustalwCommandline(clustalw_exe, infile = \"data/rag2s.fasta\")\n",
    "assert os.path.isfile(clustalw_exe), \"Clustal_W executable is missing or not found\"\n",
    "stdout, stderr = clustalw_cline()\n",
    "print(clustalw_cline)"
   ]
  },
  {
   "cell_type": "code",
   "execution_count": 24,
   "metadata": {},
   "outputs": [
    {
     "name": "stdout",
     "output_type": "stream",
     "text": [
      "Alignment with 133 rows and 2895 columns\n",
      "--------------------------------------------...--- FJ230865.1\n",
      "--------------------------------------------...--- FJ230858.1\n",
      "--------------------------------------------...--- FJ039926.1\n",
      "--------------------------------------------...--- FJ039990.1\n",
      "--------------------------------------------...--- FJ039983.1\n",
      "--------------------------------------------...--- FJ039976.1\n",
      "--------------------------------------------...--- FJ039969.1\n",
      "--------------------------------------------...--- FJ039962.1\n",
      "--------------------------------------------...--- FJ039954.1\n",
      "--------------------------------------------...--- FJ039947.1\n",
      "--------------------------------------------...--- FJ039940.1\n",
      "--------------------------------------------...--- FJ039933.1\n",
      "--------------------------------------------...--- FJ009033.1\n",
      "--------------------------------------------...--- FJ039997.1\n",
      "--------------------------------------------...--- FJ009026.1\n",
      "--------------------------------------------...--- FJ039919.1\n",
      "--------------------------------------------...--- FJ039912.1\n",
      "--------------------------------------------...--- FJ230872.1\n",
      "...\n",
      "--------------------------------------------...--- FJ230875.1\n"
     ]
    }
   ],
   "source": [
    "ClustalAlign = AlignIO.read(\"data/rag2s.aln\", \"clustal\")\n",
    "print(ClustalAlign)"
   ]
  },
  {
   "cell_type": "code",
   "execution_count": 26,
   "metadata": {},
   "outputs": [
    {
     "name": "stdout",
     "output_type": "stream",
     "text": [
      "                                                           _ FJ230879.1\n",
      "                                                          |\n",
      "                                                          |_ FJ230872.1\n",
      "                                                          |\n",
      "                                                          |  , FJ230865.1\n",
      "                                                          | ,|\n",
      "                                                          | || FJ230858.1\n",
      "                                __________________________| |\n",
      "                               |                          | | FJ039926.1\n",
      "                               |                          | |\n",
      "                               |                          | , FJ039997.1\n",
      "                               |                          | |\n",
      "                               |                          | , FJ039990.1\n",
      "                               |                          | |\n",
      "                               |                          | | FJ039983.1\n",
      "                               |                          | |\n",
      "                               |                          | , FJ039976.1\n",
      "                               |                          | |\n",
      "                               |                          | | FJ039969.1\n",
      "                               |                          | |\n",
      "                               |                          | | FJ039962.1\n",
      "                               |                          |,|\n",
      "                               |                          ||, FJ039954.1\n",
      "                               |                          |||\n",
      "                              ,|                          ||| FJ039947.1\n",
      "                              ||                          |||\n",
      "                              ||                          ||, FJ039940.1\n",
      "                              ||                          |||\n",
      "                              ||                          ||| FJ039933.1\n",
      "                              ||                           ||\n",
      "                              ||                           || FJ009033.1\n",
      "                              ||                           ||\n",
      "                              ||                           || FJ009026.1\n",
      "                              ||                           |\n",
      "                              ||                           |, FJ039919.1\n",
      "                              ||                           ||\n",
      "                              ||                            | FJ039912.1\n",
      "                              ||\n",
      "                              ||                       _____ FJ230873.1\n",
      "                              ||                      |\n",
      "                              ||                      | ____ FJ230866.1\n",
      "                              ||______________________||\n",
      "                              |                       ||   _ FJ230859.1\n",
      "                              |                       || ,|\n",
      "                              |                       || || FJ230852.1\n",
      "                              |                       || |\n",
      "                              |                        | | , FJ039991.1\n",
      "                              |                        | |,|\n",
      "                              |                        | |||, FJ039984.1\n",
      "                              |                        | ||||\n",
      "                              |                        | || | FJ039977.1\n",
      "                              |                        |_||\n",
      "                              |                          || , FJ039970.1\n",
      "                              |                          ||,|\n",
      "                              |                          |||| FJ039963.1\n",
      "                              |                          |||\n",
      "                              |                          ||, FJ009027.1\n",
      "                              |                          |||\n",
      "                              |                          ||| FJ009020.1\n",
      "                              |                          ||\n",
      "                              |                           |, FJ039955.1\n",
      "                              |                           ||\n",
      "                              |                           ,|, FJ039948.1\n",
      "                              |                           |||\n",
      "                              |                           ||| FJ039941.1\n",
      "                              |                           |||\n",
      "                              |                           | |, FJ039934.1\n",
      "                              |                           | ,|\n",
      "                              |                           | || FJ039927.1\n",
      "                              |                           | |\n",
      "                              |                           | | FJ039920.1\n",
      "                              |                           |\n",
      "                              |                           |  , FJ039913.1\n",
      "                              |                           |__|\n",
      "                              |                              | FJ039906.1\n",
      "                              |\n",
      "                              |                             , FJ230875.1\n",
      "                              |                             |\n",
      "                              |                             , FJ230868.1\n",
      "                              |                             |\n",
      "                              |                             |, FJ230861.1\n",
      "                              |                             ||\n",
      "                              |                             || FJ230854.1\n",
      "                              |_____________________________||\n",
      "                              |                             |, FJ039993.1\n",
      "                              |                             ||\n",
      "                              |                             || FJ039979.1\n",
      "                              |                             ||\n",
      "                              |                             || FJ039986.1\n",
      "                              |                             ||\n",
      "                              |                             |, FJ039972.1\n",
      "                              |                             ||\n",
      "                              |                             |, FJ039965.1\n",
      "                              |                             ||\n",
      "                              |                             |, FJ009029.1\n",
      "                              |                             ||\n",
      "                              |                             || FJ009022.1\n",
      "                              |                             ||\n",
      "                              |                             |, FJ039957.1\n",
      "                              |                             ||\n",
      "                              |                             ||, FJ039950.1\n",
      "                              |                             |||\n",
      "                              |                             ||, FJ039943.1\n",
      "                              |                             |||\n",
      "                              |                             ||, FJ039936.1\n",
      "                              |                             |||\n",
      "                              |                              |, FJ039929.1\n",
      "                              |                              ||\n",
      "                              |                              || FJ039922.1\n",
      "                              |                              |\n",
      "                              |                              | FJ039908.1\n",
      "                              |                              |\n",
      "                              |                              | FJ039915.1\n",
      "                              |\n",
      "                              |                         ____ FJ230874.1\n",
      "                              |                        |\n",
      "                              |                        | ___ FJ230867.1\n",
      "                              |                        ||\n",
      "                              |________________________||  _ FJ230860.1\n",
      "                              |                        ||,|\n",
      "                              |                        ||||__ FJ230853.1\n",
      "                              |                        |||\n",
      "                              |                        |||  , FJ039992.1\n",
      "                              |                        ||| ,|\n",
      "                              |                         || |, FJ039985.1\n",
      "                              |                         || ||\n",
      "                              |                         || || FJ039978.1\n",
      "                              |                         || |\n",
      "                              |                         || |, FJ039971.1\n",
      "                              |                         ||,||\n",
      "                              |                         ||||| FJ039964.1\n",
      "                              |                          |||\n",
      "                              |                          ||, FJ009028.1\n",
      "                              |                          ,||\n",
      "                              |                          ||| FJ009021.1\n",
      "                              |                          ||\n",
      "                              |                          |, FJ039956.1\n",
      "                              |                          ||\n",
      "                              |                          || , FJ039949.1\n",
      "                              |                          ||,|\n",
      "                              |                          |||| FJ039942.1\n",
      "                              |                          |||\n",
      "                              |                          | , FJ039935.1\n",
      "                              |                          | |\n",
      "                              |                          | | FJ039928.1\n",
      "                              |                          | |\n",
      "                              |                          | | FJ039921.1\n",
      "                              |                          |\n",
      "                              |                          | , FJ039914.1\n",
      "                              |                          |_|\n",
      "                              |                            | FJ039907.1\n",
      "                              |\n",
      "                              |                            _ FJ230878.1\n",
      "                              |                           |\n",
      "                              |                           |_ FJ230871.1\n",
      "                              |                           |\n",
      "                              |___________________________|, FJ230864.1\n",
      "                              |                           ||\n",
      "      ________________________|                           || FJ230857.1\n",
      "     |                        |                           ||\n",
      "     |                        |                           ||, FJ039996.1\n",
      "     |                        |                           |||\n",
      "     |                        |                           ||, FJ039989.1\n",
      "     |                        |                           |||\n",
      "     |                        |                           ||| FJ039982.1\n",
      "     |                        |                           |||\n",
      "     |                        |                           ||, FJ039975.1\n",
      "     |                        |                           |||\n",
      "     |                        |                           ||, FJ009032.1\n",
      "     |                        |                           |||\n",
      "     |                        |                            || FJ009025.1\n",
      "     |                        |                            ||\n",
      "     |                        |                            |, FJ039961.1\n",
      "     |                        |                            ||\n",
      "     |                        |                            |, FJ039953.1\n",
      "     |                        |                            ||\n",
      "     |                        |                            |, FJ039946.1\n",
      "     |                        |                            ||\n",
      "     |                        |                            || FJ039932.1\n",
      "     |                        |                            ||\n",
      "     |                        |                            |, FJ039939.1\n",
      "     |                        |                            ||\n",
      "     |                        |                            || FJ039925.1\n",
      "     |                        |                             |\n",
      "     |                        |                             , FJ039918.1\n",
      "     |                        |                             |\n",
      "     |                        |                             | FJ039911.1\n",
      "     |                        |                             |\n",
      "     |                        |                             | FJ039968.1\n",
      "     |                        |\n",
      "     |                        |                            _ FJ230869.1\n",
      "     |                        |                           |\n",
      "    ,|                        |                           | , FJ230862.1\n",
      "    ||                        |                           |,|\n",
      "    ||                        |                           ||| FJ230855.1\n",
      "    ||                        |                           ||\n",
      "    ||                        |___________________________||, FJ039994.1\n",
      "    ||                                                    |||\n",
      "    ||                                                    ||, FJ039987.1\n",
      "    ||                                                    |||\n",
      "    ||                                                    ||| FJ039980.1\n",
      "    ||                                                    |||\n",
      "    ||                                                    ||, FJ039973.1\n",
      "    ||                                                    |||\n",
      "    ||                                                     || FJ039966.1\n",
      "    ||                                                     ||\n",
      "    ||                                                     ,, FJ009030.1\n",
      "    ||                                                     ||\n",
      "    ||                                                     || FJ009023.1\n",
      "    ||                                                     ||\n",
      "   ,||                                                     |, FJ039951.1\n",
      "   |||                                                     ||\n",
      "   |||                                                     || FJ039923.1\n",
      "   |||                                                     ||\n",
      "   |||                                                     || FJ039937.1\n",
      "   |||                                                     ||\n",
      "   |||                                                     || FJ039944.1\n",
      "   |||                                                     ||\n",
      "   |||                                                     || FJ039930.1\n",
      "   |||                                                     ||\n",
      "  ,|||                                                     || FJ039958.1\n",
      "  ||||                                                     |\n",
      "  ||||                                                     |, FJ039916.1\n",
      "  ||||                                                     ||\n",
      "  ||||                                                      | FJ039909.1\n",
      "  ||||\n",
      " ,|||| FJ039960.1\n",
      " ||||\n",
      " ||||____ FJ230870.1\n",
      " |||\n",
      " |||_______ FJ230877.1\n",
      " ||\n",
      " |, FJ230863.1\n",
      " ||\n",
      " || FJ230856.1\n",
      " |\n",
      " |, FJ039917.1\n",
      " ||\n",
      " || FJ039910.1\n",
      " |\n",
      " , FJ039995.1\n",
      " |\n",
      " , FJ039988.1\n",
      " |\n",
      " | FJ039981.1\n",
      " |\n",
      " , FJ039959.1\n",
      " |\n",
      " , FJ009031.1\n",
      " |\n",
      " | FJ009024.1\n",
      " |\n",
      " , FJ039974.1\n",
      " |\n",
      " | FJ039967.1\n",
      " |\n",
      " | FJ039938.1\n",
      " |\n",
      "_| FJ039931.1\n",
      " |\n",
      " , FJ039952.1\n",
      " |\n",
      " | FJ039945.1\n",
      " |\n",
      " | FJ039924.1\n",
      "\n"
     ]
    }
   ],
   "source": [
    "# Generar Dendogram (Tree)\n",
    "from Bio import Phylo\n",
    "tree = Phylo.read(\"data/rag2s.dnd\", \"newick\")\n",
    "Phylo.draw_ascii(tree)"
   ]
  },
  {
   "cell_type": "markdown",
   "metadata": {},
   "source": [
    "**Escriba aquí la interpretación del árbol**"
   ]
  },
  {
   "cell_type": "markdown",
   "metadata": {},
   "source": [
    "## Ejercicio 6 [1 punto]\n",
    "\n",
    "\n",
    "1. Cree en GitHub un repositorio de nombre ```GBI6_ExamenPython```. \n",
    "2. Cree un archivo ```Readme.md``` que debe tener lo siguiente: \n",
    "- Datos personales\n",
    "- Características del computador\n",
    "- Versión de Python/Anaconda y de cada uno de los módulos/paquetes y utilizados\n",
    "- Explicación de la data utilizada\n",
    "- Un diagrama de procesos del módulo ```miningscience```\n",
    "3. Asegurarse que su repositorio tiene las carpetas ```data``` e ```img``` con los archivos que ha ido guardando en las preguntas anteriores.  \n",
    "4. Realice al menos 1 control de la versión (commits) por cada ejercicio (del 1 al 5), con un mensaje que inicie como: \n",
    "\n",
    "```sh \n",
    "Carlitos Alimaña ha realizado el ejercicio 1  \n",
    "```\n",
    "```sh \n",
    "Carlitos Alimaña ha realizado el ejercicio 2\n",
    "```\n",
    "```sh \n",
    "...\n",
    "```\n"
   ]
  },
  {
   "cell_type": "code",
   "execution_count": null,
   "metadata": {},
   "outputs": [],
   "source": []
  }
 ],
 "metadata": {
  "kernelspec": {
   "display_name": "Python 3 (ipykernel)",
   "language": "python",
   "name": "python3"
  },
  "language_info": {
   "codemirror_mode": {
    "name": "ipython",
    "version": 3
   },
   "file_extension": ".py",
   "mimetype": "text/x-python",
   "name": "python",
   "nbconvert_exporter": "python",
   "pygments_lexer": "ipython3",
   "version": "3.9.12"
  },
  "latex_envs": {
   "LaTeX_envs_menu_present": true,
   "autoclose": false,
   "autocomplete": true,
   "bibliofile": "biblio.bib",
   "cite_by": "apalike",
   "current_citInitial": 1,
   "eqLabelWithNumbers": true,
   "eqNumInitial": 1,
   "hotkeys": {
    "equation": "Ctrl-E",
    "itemize": "Ctrl-I"
   },
   "labels_anchors": false,
   "latex_user_defs": false,
   "report_style_numbering": false,
   "user_envs_cfg": false
  },
  "toc": {
   "base_numbering": 1,
   "nav_menu": {},
   "number_sections": true,
   "sideBar": false,
   "skip_h1_title": false,
   "title_cell": "Table of Contents",
   "title_sidebar": "Contents",
   "toc_cell": false,
   "toc_position": {
    "height": "1152.67px",
    "left": "41px",
    "top": "110px",
    "width": "253.458px"
   },
   "toc_section_display": true,
   "toc_window_display": false
  },
  "varInspector": {
   "cols": {
    "lenName": 16,
    "lenType": 16,
    "lenVar": 40
   },
   "kernels_config": {
    "python": {
     "delete_cmd_postfix": "",
     "delete_cmd_prefix": "del ",
     "library": "var_list.py",
     "varRefreshCmd": "print(var_dic_list())"
    },
    "r": {
     "delete_cmd_postfix": ") ",
     "delete_cmd_prefix": "rm(",
     "library": "var_list.r",
     "varRefreshCmd": "cat(var_dic_list()) "
    }
   },
   "types_to_exclude": [
    "module",
    "function",
    "builtin_function_or_method",
    "instance",
    "_Feature"
   ],
   "window_display": false
  }
 },
 "nbformat": 4,
 "nbformat_minor": 4
}
